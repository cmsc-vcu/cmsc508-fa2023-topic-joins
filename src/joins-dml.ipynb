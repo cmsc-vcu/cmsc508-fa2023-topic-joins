{
  "cells": [
    {
      "cell_type": "raw",
      "metadata": {},
      "source": [
        "---\n",
        "title: Homework 6 - Documenting an HR database\n",
        "author: (your name goes here!)\n",
        "date: last-modified\n",
        "format:\n",
        "    html:\n",
        "        theme: cosmo\n",
        "        toc: true\n",
        "        embed-resources: true\n",
        "        code-copy: true\n",
        "---"
      ],
      "id": "1fe4fc6b"
    },
    {
      "cell_type": "markdown",
      "metadata": {},
      "source": [
        "As a highly prized and chased database wizard, you've been hired at an exorbitant hourly rate asked to document an HR database of a fortune 1_000_000 company.\n",
        "\n",
        "You've been given credentials to the database.\n",
        "\n",
        "Your tasks are to submit a report that contains:\n",
        "\n",
        "1. A general written description of contents of database,\n",
        "1. A Chen diagram highlighting the major entities and relations,\n",
        "1. A Crows-foot diagram highlighting the entities, attributes, and the cardinality and participation of the relations,\n",
        "1. A python-generated listing of SQL tables and fields, and\n",
        "1. A listing of sample data showing the first bunch (5 or 10 or so) of each table.\n",
        "1. All this will be documented in the report and the HTML report will be uploaded to canvas.\n",
        "\n",
        "(Update this link with your github URL! and then delete this comment.)\n",
        "Github repo: <https://github.com/cmsc-vcu/cmsc508-fa2023-hw6 ...>\n",
        "\n",
        "\n",
        "# Description\n",
        "\n",
        "(your description of the database goes here.  One or two paragraphs should suffice.  What is the purpose of the database? What are the\n",
        "major tables/relations?  What is stored in each table? Any other\n",
        "interesting features?)\n",
        "\n",
        "# Chen diagram\n",
        "\n",
        "The following diagram highlights the major relations in the database.\n",
        "\n",
        "# Crows foot diagram\n",
        "\n",
        "The following diagram provides greater detail on the entities and attributes and highlights the cardinality and participation of the relations.\n",
        "\n",
        "# Listing of tables in the database\n",
        "\n",
        "The following python blocks highlight the steps used to document the tables in the database.  The code is left in the report to show how fun it was to write python!\n",
        "\n",
        "## Load libraries\n",
        "\n",
        "(what is this code doing?)\n"
      ],
      "id": "b1897ca4"
    },
    {
      "cell_type": "code",
      "metadata": {},
      "source": [
        "import os\n",
        "import pandas as pd\n",
        "from sqlalchemy import create_engine\n",
        "from dotenv import load_dotenv\n",
        "from IPython.display import Markdown\n",
        "from tabulate import tabulate"
      ],
      "id": "9f8becd8",
      "execution_count": null,
      "outputs": []
    },
    {
      "cell_type": "markdown",
      "metadata": {},
      "source": [
        "## Get credentials\n",
        "\n",
        "(what is this code doing?)\n"
      ],
      "id": "b2989784"
    },
    {
      "cell_type": "code",
      "metadata": {},
      "source": [
        "# load credentials from file ~/.env to OS environment\n",
        "load_dotenv()\n",
        "\n",
        "# use these credentials to populate a dictionary\n",
        "config = {\n",
        "  'user': os.getenv(\"HW6_USER\"),\n",
        "  'password': os.getenv(\"HW6_PASSWORD\"),\n",
        "  'host': os.getenv(\"HW6_HOST\"),\n",
        "  'database': os.getenv(\"HW6_DB_NAME\")\n",
        "}"
      ],
      "id": "cbcfea93",
      "execution_count": null,
      "outputs": []
    },
    {
      "cell_type": "markdown",
      "metadata": {},
      "source": [
        "## Open connection to database\n",
        "\n",
        "(what is this code doing?)\n"
      ],
      "id": "4de77292"
    },
    {
      "cell_type": "code",
      "metadata": {},
      "source": [
        "engine_uri = f\"mysql+pymysql://{config['user']}:{config['password']}@{config['host']}/{config['database']}\"\n",
        "cnx = create_engine(engine_uri)\n",
        "\n",
        "engine_uri_for_show = f\"mysql+pymysql://{config['user']}:**pwd-goes-here**@{config['host']}/{config['database']}\"\n",
        "print(engine_uri_for_show)"
      ],
      "id": "c6781283",
      "execution_count": null,
      "outputs": []
    },
    {
      "cell_type": "markdown",
      "metadata": {},
      "source": [
        "## Print list of tables \n",
        "\n",
        "(copy/paste appropriate code from explore.html)\n",
        "(Add a description of what's happening IN YOUR OWN WORDS!)\n"
      ],
      "id": "99611807"
    },
    {
      "cell_type": "code",
      "metadata": {},
      "source": [
        "print(\"just add code!\")"
      ],
      "id": "3d7cc91a",
      "execution_count": null,
      "outputs": []
    },
    {
      "cell_type": "markdown",
      "metadata": {},
      "source": [
        "## Listing of sample data\n",
        "\n",
        "(copy/paste approriate code from explore.html)\n",
        "(Add a description of what's happening IN YOUR OWN WORDS!)\n"
      ],
      "id": "32fb1a6c"
    },
    {
      "cell_type": "code",
      "metadata": {},
      "source": [
        "print(\"just add code!\")"
      ],
      "id": "029c8c06",
      "execution_count": null,
      "outputs": []
    },
    {
      "cell_type": "markdown",
      "metadata": {},
      "source": [
        "# Reflection\n",
        "\n",
        "(Delete this text and replace it with your reflections:)\n",
        "\n",
        "1. Please add a paragraph or two about how this project went.\n",
        "1. Was it harder or easier than you expected?\n",
        "1. Did the instructor provide too much information or not enough information?\n",
        "1. Do you have suggestions for how it can be improved?\n",
        "1. How does this assignment relate to project deliverable 4?"
      ],
      "id": "8bf72645"
    }
  ],
  "metadata": {
    "kernelspec": {
      "name": "python3",
      "language": "python",
      "display_name": "Python 3 (ipykernel)"
    }
  },
  "nbformat": 4,
  "nbformat_minor": 5
}